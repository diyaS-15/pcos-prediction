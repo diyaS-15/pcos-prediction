{
 "cells": [
  {
   "cell_type": "code",
   "execution_count": null,
   "metadata": {},
   "outputs": [],
   "source": [
    "%pip install pandas\n",
    "%pip install matplotlib\n",
    "%pip install scikit-learn\n",
    "%pip install diffprivlib\n",
    "%pip install seaborn\n",
    "\n",
    "import math\n",
    "import sklearn\n",
    "import warnings\n",
    "import numpy as np\n",
    "import pandas as pd\n",
    "import diffprivlib as dp\n",
    "import matplotlib.pyplot as plt\n",
    "from sklearn.cluster import KMeans\n",
    "from sklearn.metrics import accuracy_score, recall_score, precision_score\n",
    "from sklearn.model_selection import cross_val_score, cross_validate\n",
    "from sklearn.linear_model import LogisticRegression\n",
    "from sklearn.preprocessing import LabelEncoder\n",
    "from diffprivlib.models import LogisticRegression as diff_LogisticRegression\n",
    "from diffprivlib.tools.utils import mean, var\n",
    "from diffprivlib.models.k_means import KMeans as diff_KMeans\n",
    "from sklearn.metrics import confusion_matrix, classification_report\n",
    "import seaborn as sns\n",
    "\n",
    "warnings.filterwarnings(\"ignore\")\n",
    "\n",
    "# set a random seed\n",
    "random_seed = \"57643\""
   ]
  },
  {
   "cell_type": "code",
   "execution_count": 2,
   "metadata": {},
   "outputs": [
    {
     "data": {
      "application/vnd.microsoft.datawrangler.viewer.v0+json": {
       "columns": [
        {
         "name": "index",
         "rawType": "int64",
         "type": "integer"
        },
        {
         "name": "Age",
         "rawType": "int64",
         "type": "integer"
        },
        {
         "name": "BMI",
         "rawType": "float64",
         "type": "float"
        },
        {
         "name": "Menstrual_Irregularity",
         "rawType": "int64",
         "type": "integer"
        },
        {
         "name": "Testosterone_Level(ng/dL)",
         "rawType": "float64",
         "type": "float"
        },
        {
         "name": "Antral_Follicle_Count",
         "rawType": "int64",
         "type": "integer"
        },
        {
         "name": "PCOS_Diagnosis",
         "rawType": "int64",
         "type": "integer"
        }
       ],
       "conversionMethod": "pd.DataFrame",
       "ref": "113868f6-ec5f-437d-b8a4-1ad1aa9ead45",
       "rows": [
        [
         "0",
         "24",
         "34.7",
         "1",
         "25.2",
         "20",
         "0"
        ],
        [
         "1",
         "37",
         "26.4",
         "0",
         "57.1",
         "25",
         "0"
        ],
        [
         "2",
         "32",
         "23.6",
         "0",
         "92.7",
         "28",
         "0"
        ],
        [
         "3",
         "28",
         "28.8",
         "0",
         "63.1",
         "26",
         "0"
        ],
        [
         "4",
         "25",
         "22.1",
         "1",
         "59.8",
         "8",
         "0"
        ],
        [
         "5",
         "38",
         "19.3",
         "0",
         "28.4",
         "6",
         "0"
        ],
        [
         "6",
         "24",
         "20.2",
         "1",
         "72.5",
         "29",
         "0"
        ],
        [
         "7",
         "43",
         "20.2",
         "1",
         "85.8",
         "17",
         "0"
        ],
        [
         "8",
         "36",
         "20.6",
         "0",
         "50.4",
         "5",
         "0"
        ],
        [
         "9",
         "40",
         "20.4",
         "0",
         "82.0",
         "21",
         "0"
        ],
        [
         "10",
         "28",
         "28.9",
         "0",
         "97.2",
         "17",
         "0"
        ],
        [
         "11",
         "28",
         "21.1",
         "1",
         "36.3",
         "8",
         "0"
        ],
        [
         "12",
         "41",
         "23.9",
         "0",
         "61.9",
         "11",
         "0"
        ],
        [
         "13",
         "38",
         "33.2",
         "1",
         "43.0",
         "21",
         "1"
        ],
        [
         "14",
         "21",
         "26.1",
         "1",
         "83.4",
         "13",
         "1"
        ],
        [
         "15",
         "25",
         "29.3",
         "0",
         "66.2",
         "8",
         "0"
        ],
        [
         "16",
         "41",
         "20.9",
         "0",
         "70.8",
         "23",
         "0"
        ],
        [
         "17",
         "20",
         "21.3",
         "0",
         "83.8",
         "5",
         "0"
        ],
        [
         "18",
         "39",
         "18.7",
         "0",
         "51.7",
         "14",
         "0"
        ],
        [
         "19",
         "38",
         "20.9",
         "0",
         "93.2",
         "8",
         "0"
        ],
        [
         "20",
         "19",
         "22.7",
         "0",
         "62.6",
         "13",
         "0"
        ],
        [
         "21",
         "41",
         "21.0",
         "1",
         "32.6",
         "17",
         "0"
        ],
        [
         "22",
         "29",
         "19.5",
         "1",
         "75.7",
         "18",
         "0"
        ],
        [
         "23",
         "23",
         "20.1",
         "1",
         "83.5",
         "14",
         "0"
        ],
        [
         "24",
         "19",
         "25.8",
         "0",
         "45.3",
         "10",
         "0"
        ],
        [
         "25",
         "45",
         "21.5",
         "1",
         "88.6",
         "20",
         "0"
        ],
        [
         "26",
         "38",
         "24.2",
         "1",
         "92.5",
         "10",
         "0"
        ],
        [
         "27",
         "18",
         "26.6",
         "1",
         "42.2",
         "21",
         "1"
        ],
        [
         "28",
         "29",
         "29.7",
         "1",
         "98.7",
         "14",
         "1"
        ],
        [
         "29",
         "43",
         "18.7",
         "1",
         "31.3",
         "22",
         "0"
        ],
        [
         "30",
         "39",
         "31.6",
         "0",
         "36.2",
         "26",
         "0"
        ],
        [
         "31",
         "29",
         "28.7",
         "0",
         "34.7",
         "22",
         "0"
        ],
        [
         "32",
         "42",
         "19.4",
         "1",
         "91.5",
         "7",
         "0"
        ],
        [
         "33",
         "34",
         "32.9",
         "1",
         "72.3",
         "24",
         "1"
        ],
        [
         "34",
         "44",
         "33.7",
         "1",
         "32.2",
         "25",
         "0"
        ],
        [
         "35",
         "44",
         "19.0",
         "0",
         "55.2",
         "29",
         "0"
        ],
        [
         "36",
         "27",
         "22.7",
         "0",
         "69.2",
         "19",
         "0"
        ],
        [
         "37",
         "45",
         "31.7",
         "1",
         "26.7",
         "19",
         "0"
        ],
        [
         "38",
         "45",
         "30.7",
         "0",
         "90.6",
         "8",
         "0"
        ],
        [
         "39",
         "33",
         "21.1",
         "0",
         "84.3",
         "13",
         "0"
        ],
        [
         "40",
         "32",
         "21.6",
         "1",
         "60.4",
         "23",
         "0"
        ],
        [
         "41",
         "32",
         "24.3",
         "0",
         "97.4",
         "28",
         "0"
        ],
        [
         "42",
         "36",
         "26.2",
         "0",
         "53.4",
         "21",
         "0"
        ],
        [
         "43",
         "29",
         "28.5",
         "1",
         "98.7",
         "15",
         "1"
        ],
        [
         "44",
         "40",
         "24.3",
         "0",
         "73.4",
         "29",
         "0"
        ],
        [
         "45",
         "37",
         "25.9",
         "0",
         "70.8",
         "13",
         "0"
        ],
        [
         "46",
         "42",
         "30.7",
         "1",
         "33.3",
         "14",
         "0"
        ],
        [
         "47",
         "20",
         "18.6",
         "0",
         "90.6",
         "22",
         "0"
        ],
        [
         "48",
         "22",
         "22.3",
         "0",
         "54.2",
         "24",
         "0"
        ],
        [
         "49",
         "36",
         "30.1",
         "1",
         "33.0",
         "17",
         "0"
        ]
       ],
       "shape": {
        "columns": 6,
        "rows": 1000
       }
      },
      "text/html": [
       "<div>\n",
       "<style scoped>\n",
       "    .dataframe tbody tr th:only-of-type {\n",
       "        vertical-align: middle;\n",
       "    }\n",
       "\n",
       "    .dataframe tbody tr th {\n",
       "        vertical-align: top;\n",
       "    }\n",
       "\n",
       "    .dataframe thead th {\n",
       "        text-align: right;\n",
       "    }\n",
       "</style>\n",
       "<table border=\"1\" class=\"dataframe\">\n",
       "  <thead>\n",
       "    <tr style=\"text-align: right;\">\n",
       "      <th></th>\n",
       "      <th>Age</th>\n",
       "      <th>BMI</th>\n",
       "      <th>Menstrual_Irregularity</th>\n",
       "      <th>Testosterone_Level(ng/dL)</th>\n",
       "      <th>Antral_Follicle_Count</th>\n",
       "      <th>PCOS_Diagnosis</th>\n",
       "    </tr>\n",
       "  </thead>\n",
       "  <tbody>\n",
       "    <tr>\n",
       "      <th>0</th>\n",
       "      <td>24</td>\n",
       "      <td>34.7</td>\n",
       "      <td>1</td>\n",
       "      <td>25.2</td>\n",
       "      <td>20</td>\n",
       "      <td>0</td>\n",
       "    </tr>\n",
       "    <tr>\n",
       "      <th>1</th>\n",
       "      <td>37</td>\n",
       "      <td>26.4</td>\n",
       "      <td>0</td>\n",
       "      <td>57.1</td>\n",
       "      <td>25</td>\n",
       "      <td>0</td>\n",
       "    </tr>\n",
       "    <tr>\n",
       "      <th>2</th>\n",
       "      <td>32</td>\n",
       "      <td>23.6</td>\n",
       "      <td>0</td>\n",
       "      <td>92.7</td>\n",
       "      <td>28</td>\n",
       "      <td>0</td>\n",
       "    </tr>\n",
       "    <tr>\n",
       "      <th>3</th>\n",
       "      <td>28</td>\n",
       "      <td>28.8</td>\n",
       "      <td>0</td>\n",
       "      <td>63.1</td>\n",
       "      <td>26</td>\n",
       "      <td>0</td>\n",
       "    </tr>\n",
       "    <tr>\n",
       "      <th>4</th>\n",
       "      <td>25</td>\n",
       "      <td>22.1</td>\n",
       "      <td>1</td>\n",
       "      <td>59.8</td>\n",
       "      <td>8</td>\n",
       "      <td>0</td>\n",
       "    </tr>\n",
       "    <tr>\n",
       "      <th>...</th>\n",
       "      <td>...</td>\n",
       "      <td>...</td>\n",
       "      <td>...</td>\n",
       "      <td>...</td>\n",
       "      <td>...</td>\n",
       "      <td>...</td>\n",
       "    </tr>\n",
       "    <tr>\n",
       "      <th>995</th>\n",
       "      <td>34</td>\n",
       "      <td>18.4</td>\n",
       "      <td>1</td>\n",
       "      <td>95.7</td>\n",
       "      <td>23</td>\n",
       "      <td>0</td>\n",
       "    </tr>\n",
       "    <tr>\n",
       "      <th>996</th>\n",
       "      <td>45</td>\n",
       "      <td>28.9</td>\n",
       "      <td>1</td>\n",
       "      <td>28.5</td>\n",
       "      <td>7</td>\n",
       "      <td>0</td>\n",
       "    </tr>\n",
       "    <tr>\n",
       "      <th>997</th>\n",
       "      <td>37</td>\n",
       "      <td>28.3</td>\n",
       "      <td>0</td>\n",
       "      <td>32.4</td>\n",
       "      <td>28</td>\n",
       "      <td>0</td>\n",
       "    </tr>\n",
       "    <tr>\n",
       "      <th>998</th>\n",
       "      <td>41</td>\n",
       "      <td>27.3</td>\n",
       "      <td>0</td>\n",
       "      <td>95.6</td>\n",
       "      <td>9</td>\n",
       "      <td>0</td>\n",
       "    </tr>\n",
       "    <tr>\n",
       "      <th>999</th>\n",
       "      <td>22</td>\n",
       "      <td>21.9</td>\n",
       "      <td>1</td>\n",
       "      <td>78.9</td>\n",
       "      <td>7</td>\n",
       "      <td>0</td>\n",
       "    </tr>\n",
       "  </tbody>\n",
       "</table>\n",
       "<p>1000 rows × 6 columns</p>\n",
       "</div>"
      ],
      "text/plain": [
       "     Age   BMI  Menstrual_Irregularity  Testosterone_Level(ng/dL)  \\\n",
       "0     24  34.7                       1                       25.2   \n",
       "1     37  26.4                       0                       57.1   \n",
       "2     32  23.6                       0                       92.7   \n",
       "3     28  28.8                       0                       63.1   \n",
       "4     25  22.1                       1                       59.8   \n",
       "..   ...   ...                     ...                        ...   \n",
       "995   34  18.4                       1                       95.7   \n",
       "996   45  28.9                       1                       28.5   \n",
       "997   37  28.3                       0                       32.4   \n",
       "998   41  27.3                       0                       95.6   \n",
       "999   22  21.9                       1                       78.9   \n",
       "\n",
       "     Antral_Follicle_Count  PCOS_Diagnosis  \n",
       "0                       20               0  \n",
       "1                       25               0  \n",
       "2                       28               0  \n",
       "3                       26               0  \n",
       "4                        8               0  \n",
       "..                     ...             ...  \n",
       "995                     23               0  \n",
       "996                      7               0  \n",
       "997                     28               0  \n",
       "998                      9               0  \n",
       "999                      7               0  \n",
       "\n",
       "[1000 rows x 6 columns]"
      ]
     },
     "execution_count": 2,
     "metadata": {},
     "output_type": "execute_result"
    }
   ],
   "source": [
    "# datafram df to reference raw dataset \n",
    "df = pd.read_csv(\"pcos_dataset.csv\", sep=\",\", engine='python')\n",
    "df"
   ]
  },
  {
   "cell_type": "code",
   "execution_count": 3,
   "metadata": {},
   "outputs": [
    {
     "data": {
      "application/vnd.microsoft.datawrangler.viewer.v0+json": {
       "columns": [
        {
         "name": "index",
         "rawType": "int64",
         "type": "integer"
        },
        {
         "name": "Age",
         "rawType": "int64",
         "type": "integer"
        },
        {
         "name": "BMI",
         "rawType": "int64",
         "type": "integer"
        },
        {
         "name": "Menstrual_Irregularity",
         "rawType": "int64",
         "type": "integer"
        },
        {
         "name": "Testosterone_Level(ng/dL)",
         "rawType": "int64",
         "type": "integer"
        },
        {
         "name": "Antral_Follicle_Count",
         "rawType": "int64",
         "type": "integer"
        },
        {
         "name": "PCOS_Diagnosis",
         "rawType": "int64",
         "type": "integer"
        }
       ],
       "conversionMethod": "pd.DataFrame",
       "ref": "5cf50cb9-f319-4b46-ae67-81d090bc6c89",
       "rows": [
        [
         "0",
         "6",
         "166",
         "1",
         "39",
         "15",
         "0"
        ],
        [
         "1",
         "19",
         "83",
         "0",
         "266",
         "20",
         "0"
        ],
        [
         "2",
         "14",
         "55",
         "0",
         "525",
         "23",
         "0"
        ],
        [
         "3",
         "10",
         "107",
         "0",
         "309",
         "21",
         "0"
        ],
        [
         "4",
         "7",
         "40",
         "1",
         "285",
         "3",
         "0"
        ],
        [
         "5",
         "20",
         "12",
         "0",
         "61",
         "1",
         "0"
        ],
        [
         "6",
         "6",
         "21",
         "1",
         "375",
         "24",
         "0"
        ],
        [
         "7",
         "25",
         "21",
         "1",
         "473",
         "12",
         "0"
        ],
        [
         "8",
         "18",
         "25",
         "0",
         "215",
         "0",
         "0"
        ],
        [
         "9",
         "22",
         "23",
         "0",
         "446",
         "16",
         "0"
        ],
        [
         "10",
         "10",
         "108",
         "0",
         "556",
         "12",
         "0"
        ],
        [
         "11",
         "10",
         "30",
         "1",
         "115",
         "3",
         "0"
        ],
        [
         "12",
         "23",
         "58",
         "0",
         "303",
         "6",
         "0"
        ],
        [
         "13",
         "20",
         "151",
         "1",
         "161",
         "16",
         "1"
        ],
        [
         "14",
         "3",
         "80",
         "1",
         "455",
         "8",
         "1"
        ],
        [
         "15",
         "7",
         "112",
         "0",
         "327",
         "3",
         "0"
        ],
        [
         "16",
         "23",
         "28",
         "0",
         "360",
         "18",
         "0"
        ],
        [
         "17",
         "2",
         "32",
         "0",
         "459",
         "0",
         "0"
        ],
        [
         "18",
         "21",
         "6",
         "0",
         "225",
         "9",
         "0"
        ],
        [
         "19",
         "20",
         "28",
         "0",
         "529",
         "3",
         "0"
        ],
        [
         "20",
         "1",
         "46",
         "0",
         "307",
         "8",
         "0"
        ],
        [
         "21",
         "23",
         "29",
         "1",
         "92",
         "12",
         "0"
        ],
        [
         "22",
         "11",
         "14",
         "1",
         "399",
         "13",
         "0"
        ],
        [
         "23",
         "5",
         "20",
         "1",
         "456",
         "9",
         "0"
        ],
        [
         "24",
         "1",
         "77",
         "0",
         "180",
         "5",
         "0"
        ],
        [
         "25",
         "27",
         "34",
         "1",
         "498",
         "15",
         "0"
        ],
        [
         "26",
         "20",
         "61",
         "1",
         "523",
         "5",
         "0"
        ],
        [
         "27",
         "0",
         "85",
         "1",
         "154",
         "16",
         "1"
        ],
        [
         "28",
         "11",
         "116",
         "1",
         "569",
         "9",
         "1"
        ],
        [
         "29",
         "25",
         "6",
         "1",
         "84",
         "17",
         "0"
        ],
        [
         "30",
         "21",
         "135",
         "0",
         "114",
         "21",
         "0"
        ],
        [
         "31",
         "11",
         "106",
         "0",
         "102",
         "17",
         "0"
        ],
        [
         "32",
         "24",
         "13",
         "1",
         "519",
         "2",
         "0"
        ],
        [
         "33",
         "16",
         "148",
         "1",
         "373",
         "19",
         "1"
        ],
        [
         "34",
         "26",
         "156",
         "1",
         "89",
         "20",
         "0"
        ],
        [
         "35",
         "26",
         "9",
         "0",
         "252",
         "24",
         "0"
        ],
        [
         "36",
         "9",
         "46",
         "0",
         "349",
         "14",
         "0"
        ],
        [
         "37",
         "27",
         "136",
         "1",
         "51",
         "14",
         "0"
        ],
        [
         "38",
         "27",
         "126",
         "0",
         "513",
         "3",
         "0"
        ],
        [
         "39",
         "15",
         "30",
         "0",
         "463",
         "8",
         "0"
        ],
        [
         "40",
         "14",
         "35",
         "1",
         "289",
         "18",
         "0"
        ],
        [
         "41",
         "14",
         "62",
         "0",
         "558",
         "23",
         "0"
        ],
        [
         "42",
         "18",
         "81",
         "0",
         "236",
         "16",
         "0"
        ],
        [
         "43",
         "11",
         "104",
         "1",
         "569",
         "10",
         "1"
        ],
        [
         "44",
         "22",
         "62",
         "0",
         "382",
         "24",
         "0"
        ],
        [
         "45",
         "19",
         "78",
         "0",
         "360",
         "8",
         "0"
        ],
        [
         "46",
         "24",
         "126",
         "1",
         "96",
         "9",
         "0"
        ],
        [
         "47",
         "2",
         "5",
         "0",
         "513",
         "17",
         "0"
        ],
        [
         "48",
         "4",
         "42",
         "0",
         "242",
         "19",
         "0"
        ],
        [
         "49",
         "18",
         "120",
         "1",
         "95",
         "12",
         "0"
        ]
       ],
       "shape": {
        "columns": 6,
        "rows": 1000
       }
      },
      "text/html": [
       "<div>\n",
       "<style scoped>\n",
       "    .dataframe tbody tr th:only-of-type {\n",
       "        vertical-align: middle;\n",
       "    }\n",
       "\n",
       "    .dataframe tbody tr th {\n",
       "        vertical-align: top;\n",
       "    }\n",
       "\n",
       "    .dataframe thead th {\n",
       "        text-align: right;\n",
       "    }\n",
       "</style>\n",
       "<table border=\"1\" class=\"dataframe\">\n",
       "  <thead>\n",
       "    <tr style=\"text-align: right;\">\n",
       "      <th></th>\n",
       "      <th>Age</th>\n",
       "      <th>BMI</th>\n",
       "      <th>Menstrual_Irregularity</th>\n",
       "      <th>Testosterone_Level(ng/dL)</th>\n",
       "      <th>Antral_Follicle_Count</th>\n",
       "      <th>PCOS_Diagnosis</th>\n",
       "    </tr>\n",
       "  </thead>\n",
       "  <tbody>\n",
       "    <tr>\n",
       "      <th>0</th>\n",
       "      <td>6</td>\n",
       "      <td>166</td>\n",
       "      <td>1</td>\n",
       "      <td>39</td>\n",
       "      <td>15</td>\n",
       "      <td>0</td>\n",
       "    </tr>\n",
       "    <tr>\n",
       "      <th>1</th>\n",
       "      <td>19</td>\n",
       "      <td>83</td>\n",
       "      <td>0</td>\n",
       "      <td>266</td>\n",
       "      <td>20</td>\n",
       "      <td>0</td>\n",
       "    </tr>\n",
       "    <tr>\n",
       "      <th>2</th>\n",
       "      <td>14</td>\n",
       "      <td>55</td>\n",
       "      <td>0</td>\n",
       "      <td>525</td>\n",
       "      <td>23</td>\n",
       "      <td>0</td>\n",
       "    </tr>\n",
       "    <tr>\n",
       "      <th>3</th>\n",
       "      <td>10</td>\n",
       "      <td>107</td>\n",
       "      <td>0</td>\n",
       "      <td>309</td>\n",
       "      <td>21</td>\n",
       "      <td>0</td>\n",
       "    </tr>\n",
       "    <tr>\n",
       "      <th>4</th>\n",
       "      <td>7</td>\n",
       "      <td>40</td>\n",
       "      <td>1</td>\n",
       "      <td>285</td>\n",
       "      <td>3</td>\n",
       "      <td>0</td>\n",
       "    </tr>\n",
       "    <tr>\n",
       "      <th>...</th>\n",
       "      <td>...</td>\n",
       "      <td>...</td>\n",
       "      <td>...</td>\n",
       "      <td>...</td>\n",
       "      <td>...</td>\n",
       "      <td>...</td>\n",
       "    </tr>\n",
       "    <tr>\n",
       "      <th>995</th>\n",
       "      <td>16</td>\n",
       "      <td>3</td>\n",
       "      <td>1</td>\n",
       "      <td>544</td>\n",
       "      <td>18</td>\n",
       "      <td>0</td>\n",
       "    </tr>\n",
       "    <tr>\n",
       "      <th>996</th>\n",
       "      <td>27</td>\n",
       "      <td>108</td>\n",
       "      <td>1</td>\n",
       "      <td>62</td>\n",
       "      <td>2</td>\n",
       "      <td>0</td>\n",
       "    </tr>\n",
       "    <tr>\n",
       "      <th>997</th>\n",
       "      <td>19</td>\n",
       "      <td>102</td>\n",
       "      <td>0</td>\n",
       "      <td>91</td>\n",
       "      <td>23</td>\n",
       "      <td>0</td>\n",
       "    </tr>\n",
       "    <tr>\n",
       "      <th>998</th>\n",
       "      <td>23</td>\n",
       "      <td>92</td>\n",
       "      <td>0</td>\n",
       "      <td>543</td>\n",
       "      <td>4</td>\n",
       "      <td>0</td>\n",
       "    </tr>\n",
       "    <tr>\n",
       "      <th>999</th>\n",
       "      <td>4</td>\n",
       "      <td>38</td>\n",
       "      <td>1</td>\n",
       "      <td>422</td>\n",
       "      <td>2</td>\n",
       "      <td>0</td>\n",
       "    </tr>\n",
       "  </tbody>\n",
       "</table>\n",
       "<p>1000 rows × 6 columns</p>\n",
       "</div>"
      ],
      "text/plain": [
       "     Age  BMI  Menstrual_Irregularity  Testosterone_Level(ng/dL)  \\\n",
       "0      6  166                       1                         39   \n",
       "1     19   83                       0                        266   \n",
       "2     14   55                       0                        525   \n",
       "3     10  107                       0                        309   \n",
       "4      7   40                       1                        285   \n",
       "..   ...  ...                     ...                        ...   \n",
       "995   16    3                       1                        544   \n",
       "996   27  108                       1                         62   \n",
       "997   19  102                       0                         91   \n",
       "998   23   92                       0                        543   \n",
       "999    4   38                       1                        422   \n",
       "\n",
       "     Antral_Follicle_Count  PCOS_Diagnosis  \n",
       "0                       15               0  \n",
       "1                       20               0  \n",
       "2                       23               0  \n",
       "3                       21               0  \n",
       "4                        3               0  \n",
       "..                     ...             ...  \n",
       "995                     18               0  \n",
       "996                      2               0  \n",
       "997                     23               0  \n",
       "998                      4               0  \n",
       "999                      2               0  \n",
       "\n",
       "[1000 rows x 6 columns]"
      ]
     },
     "execution_count": 3,
     "metadata": {},
     "output_type": "execute_result"
    }
   ],
   "source": [
    "# goal: using logistic regression classifer by sklearn to classify PCOS_Diagonis in pcos_dataset\n",
    "\n",
    "# Encode dataset \n",
    "label_encoder = LabelEncoder() \n",
    "#Encode labels in column species \n",
    "df['Age']= label_encoder.fit_transform(df['Age']) \n",
    "df['BMI']= label_encoder.fit_transform(df['BMI']) \n",
    "df['Menstrual_Irregularity']= label_encoder.fit_transform(df['Menstrual_Irregularity']) \n",
    "df['Testosterone_Level(ng/dL)']= label_encoder.fit_transform(df['Testosterone_Level(ng/dL)']) \n",
    "df['Antral_Follicle_Count']= label_encoder.fit_transform(df['Antral_Follicle_Count']) \n",
    "\n",
    "df"
   ]
  },
  {
   "cell_type": "code",
   "execution_count": 4,
   "metadata": {},
   "outputs": [],
   "source": [
    "# randomly select 50% data using random_seed for target set, rest in test \n",
    "D_target = df.sample(frac=0.5, random_state=int(random_seed))\n",
    "D_test = df[~df.isin(D_target).all(axis=1)]"
   ]
  },
  {
   "cell_type": "code",
   "execution_count": 5,
   "metadata": {},
   "outputs": [],
   "source": [
    "target_variable = \"PCOS_Diagnosis\"\n",
    "# columns that are not PCOS_Diagnosis will be feature/predictor columns \n",
    "feature_cols = [key for key in df.keys() if key != \"PCOS_Diagnosis\"]"
   ]
  },
  {
   "cell_type": "code",
   "execution_count": 6,
   "metadata": {},
   "outputs": [
    {
     "name": "stdout",
     "output_type": "stream",
     "text": [
      "Average accuracy: 0.914\n",
      "Average precision: 0.8019131161236425\n",
      "Average recall: 0.7389473684210527\n"
     ]
    }
   ],
   "source": [
    "# target model training \n",
    "M_target = LogisticRegression(random_state=int(random_seed))\n",
    "M_target.fit(D_target[feature_cols], D_target[target_variable])\n",
    "\n",
    "average_accuracy = np.average(cross_validate(M_target, D_target[feature_cols], D_target[target_variable], cv=5, scoring='accuracy')['test_score'])\n",
    "average_precision = np.average(cross_validate(M_target, D_target[feature_cols], D_target[target_variable], cv=5, scoring='precision')['test_score'])\n",
    "average_recall = np.average(cross_validate(M_target, D_target[feature_cols], D_target[target_variable], cv=5, scoring='recall')['test_score'])\n",
    "\n",
    "print(f\"Average accuracy: {average_accuracy}\")\n",
    "print(f\"Average precision: {average_precision}\")\n",
    "print(f\"Average recall: {average_recall}\")\n"
   ]
  },
  {
   "cell_type": "code",
   "execution_count": null,
   "metadata": {},
   "outputs": [
    {
     "name": "stdout",
     "output_type": "stream",
     "text": [
      "Confusion Matrix:\n",
      " [[384  13]\n",
      " [ 31  72]]\n",
      "\n",
      "Classification Report:\n",
      "               precision    recall  f1-score   support\n",
      "\n",
      "           0       0.93      0.97      0.95       397\n",
      "           1       0.85      0.70      0.77       103\n",
      "\n",
      "    accuracy                           0.91       500\n",
      "   macro avg       0.89      0.83      0.86       500\n",
      "weighted avg       0.91      0.91      0.91       500\n",
      "\n"
     ]
    },
    {
     "data": {
      "image/png": "[encoded data removed]",
      "text/plain": [
       "<Figure size 640x480 with 2 Axes>"
      ]
     },
     "metadata": {},
     "output_type": "display_data"
    }
   ],
   "source": [
    "# 1. Query the target model using the test dataset\n",
    "PCOS_diagonsis_predicted = pd.DataFrame(M_target.predict(D_test[feature_cols]))\n",
    "\n",
    "# 2. Get now compare with the ground truth and grab accuracy, precision, and revall\n",
    "PCOS_diagonis_ground_truth = D_test[['PCOS_Diagnosis']] \n",
    "cm = confusion_matrix(PCOS_diagonis_ground_truth, PCOS_diagonsis_predicted)\n",
    "print(\"Confusion Matrix:\\n\", cm)\n",
    "print(\"\\nClassification Report:\\n\", classification_report(PCOS_diagonis_ground_truth, PCOS_diagonsis_predicted))\n",
    "\n",
    "# 3. Let's visualize some results\n",
    "sns.heatmap(cm, annot=True, fmt='d')\n",
    "plt.title('Confusion Matrix')\n",
    "plt.xlabel('Predicted')\n",
    "plt.ylabel('Actual')\n",
    "plt.show()"
   ]
  },
  {
   "cell_type": "code",
   "execution_count": 8,
   "metadata": {},
   "outputs": [
    {
     "name": "stdout",
     "output_type": "stream",
     "text": [
      "     0\n",
      "0    1\n",
      "1    0\n",
      "2    0\n",
      "3    0\n",
      "4    0\n",
      "..  ..\n",
      "495  0\n",
      "496  0\n",
      "497  0\n",
      "498  0\n",
      "499  0\n",
      "\n",
      "[500 rows x 1 columns]\n",
      "     PCOS_Diagnosis\n",
      "0                 0\n",
      "1                 0\n",
      "2                 0\n",
      "7                 0\n",
      "9                 0\n",
      "..              ...\n",
      "992               0\n",
      "993               0\n",
      "996               0\n",
      "997               0\n",
      "998               0\n",
      "\n",
      "[500 rows x 1 columns]\n"
     ]
    }
   ],
   "source": [
    "# printing the predicted and ground truth \n",
    "print(PCOS_diagonsis_predicted)\n",
    "print(PCOS_diagonis_ground_truth)"
   ]
  },
  {
   "cell_type": "code",
   "execution_count": 9,
   "metadata": {},
   "outputs": [
    {
     "name": "stdout",
     "output_type": "stream",
     "text": [
      "Confusion Matrix:\n",
      " [[384  13]\n",
      " [ 31  72]]\n",
      "\n",
      "Classification Report:\n",
      "               precision    recall  f1-score   support\n",
      "\n",
      "           0       0.93      0.97      0.95       397\n",
      "           1       0.85      0.70      0.77       103\n",
      "\n",
      "    accuracy                           0.91       500\n",
      "   macro avg       0.89      0.83      0.86       500\n",
      "weighted avg       0.91      0.91      0.91       500\n",
      "\n"
     ]
    },
    {
     "data": {
      "image/png": "[encoded data removed]",
      "text/plain": [
       "<Figure size 640x480 with 2 Axes>"
      ]
     },
     "metadata": {},
     "output_type": "display_data"
    }
   ],
   "source": [
    "# Differential privacy \n",
    "\n",
    "# Train Target model\n",
    "M_target = diff_LogisticRegression(epsilon=15).fit(D_target[feature_cols], D_target[target_variable])\n",
    "\n",
    "# 1. Query the target model using the test dataset\n",
    "PCOS_diagonsis_predicted_predicted = pd.DataFrame(M_target.predict(D_test[feature_cols]))\n",
    "PCOS_diagonsis_predicted\n",
    "\n",
    "# 2. Get now compare with the ground truth and grab accuracy, precision, and revall\n",
    "PCOS_diagonis_ground_truth = D_test[['PCOS_Diagnosis']] \n",
    "cm = confusion_matrix(PCOS_diagonis_ground_truth, PCOS_diagonsis_predicted)\n",
    "print(\"Confusion Matrix:\\n\", cm)\n",
    "print(\"\\nClassification Report:\\n\", classification_report(PCOS_diagonis_ground_truth, PCOS_diagonsis_predicted))\n",
    "\n",
    "# 3. Let's visualize some results\n",
    "sns.heatmap(cm, annot=True, fmt='d')\n",
    "plt.title('Confusion Matrix')\n",
    "plt.xlabel('Predicted')\n",
    "plt.ylabel('Actual')\n",
    "plt.show()"
   ]
  },
  {
   "cell_type": "code",
   "execution_count": 10,
   "metadata": {},
   "outputs": [
    {
     "name": "stdout",
     "output_type": "stream",
     "text": [
      "Accuracy: 0.912\n",
      "precision: 0.8470588235294118\n",
      "recall: 0.6990291262135923\n"
     ]
    }
   ],
   "source": [
    "# 3. Test results\n",
    "accuracy = accuracy_score(PCOS_diagonis_ground_truth, PCOS_diagonsis_predicted)\n",
    "precision = precision_score(PCOS_diagonis_ground_truth, PCOS_diagonsis_predicted)\n",
    "recall = recall_score(PCOS_diagonis_ground_truth, PCOS_diagonsis_predicted)\n",
    "\n",
    "print(f\"Accuracy: {accuracy}\")\n",
    "print(f\"precision: {precision}\")\n",
    "print(f\"recall: {recall}\")"
   ]
  }
 ],
 "metadata": {
  "kernelspec": {
   "display_name": ".venv",
   "language": "python",
   "name": "python3"
  },
  "language_info": {
   "codemirror_mode": {
    "name": "ipython",
    "version": 3
   },
   "file_extension": ".py",
   "mimetype": "text/x-python",
   "name": "python",
   "nbconvert_exporter": "python",
   "pygments_lexer": "ipython3",
   "version": "3.13.1"
  }
 },
 "nbformat": 4,
 "nbformat_minor": 2
}
